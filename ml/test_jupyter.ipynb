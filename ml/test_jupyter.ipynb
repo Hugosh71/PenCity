{
 "cells": [
  {
   "cell_type": "markdown",
   "metadata": {},
   "source": [
    "# Jupyter de test à supprimer avant le rendu"
   ]
  },
  {
   "cell_type": "code",
   "execution_count": 2,
   "metadata": {},
   "outputs": [],
   "source": [
    "import random\n",
    "from PIL import Image\n",
    "from tqdm import tqdm\n",
    "from datasets import load_from_disk\n",
    "import os\n",
    "import json\n",
    "from build_dataset import DATASET_PATH"
   ]
  },
  {
   "cell_type": "code",
   "execution_count": 3,
   "metadata": {},
   "outputs": [],
   "source": [
    "base_width, base_height = 416, 416\n",
    "dataset = load_from_disk(DATASET_PATH)\n",
    "all_images = dataset['train']"
   ]
  },
  {
   "cell_type": "code",
   "execution_count": 4,
   "metadata": {},
   "outputs": [],
   "source": [
    "image_groups = [all_images[i:i+random.randint(4, 9)] for i in range(0, len(all_images), random.randint(4, 9))]"
   ]
  },
  {
   "cell_type": "code",
   "execution_count": 7,
   "metadata": {},
   "outputs": [
    {
     "name": "stdout",
     "output_type": "stream",
     "text": [
      "(28, 28)\n"
     ]
    }
   ],
   "source": [
    "print(image_groups[0][\"image\"][0].size)"
   ]
  },
  {
   "cell_type": "code",
   "execution_count": 34,
   "metadata": {},
   "outputs": [],
   "source": [
    "import cv2\n",
    "import numpy as np"
   ]
  },
  {
   "cell_type": "code",
   "execution_count": 39,
   "metadata": {},
   "outputs": [
    {
     "name": "stderr",
     "output_type": "stream",
     "text": [
      "  0%|          | 0/731349 [00:00<?, ?it/s]"
     ]
    },
    {
     "name": "stdout",
     "output_type": "stream",
     "text": [
      "(28, 28)\n",
      "9\n",
      "(400, 400)\n"
     ]
    },
    {
     "name": "stderr",
     "output_type": "stream",
     "text": [
      "  0%|          | 0/731349 [00:06<?, ?it/s]\n"
     ]
    }
   ],
   "source": [
    "image_size = 400\n",
    "\n",
    "for index, image_group in enumerate(tqdm(image_groups)):\n",
    "    \n",
    "    image_data = image_group[\"image\"]\n",
    "    image_label = image_group[\"label\"]\n",
    "    \n",
    "    #list of data and label as tuple\n",
    "    image_data_list = list(zip(image_data, image_label))\n",
    "\n",
    "    for img_data, img_label in image_data_list:\n",
    "        print(img_data.size)\n",
    "        print(img_label)\n",
    "        \n",
    "        img = img_data.resize((image_size, image_size), Image.LANCZOS)\n",
    "        \n",
    "        img_np = np.array(img)\n",
    "\n",
    "        # Convert to grayscale if the image is in color\n",
    "        print(img_np.shape)\n",
    "        if len(img_np.shape) == 3:\n",
    "            print(' coucou')\n",
    "            img_np = cv2.cvtColor(img_np, cv2.COLOR_BGR2GRAY)\n",
    "\n",
    "        # Apply the threshold\n",
    "        threshold = 128\n",
    "        _, binary_np = cv2.threshold(img_np, threshold, 255, cv2.THRESH_BINARY)\n",
    "\n",
    "        binary = Image.fromarray(binary_np)\n",
    "\n",
    "        \n",
    "        img.show()\n",
    "        binary.show()\n",
    "        break\n",
    "    break"
   ]
  }
 ],
 "metadata": {
  "kernelspec": {
   "display_name": "Python 3",
   "language": "python",
   "name": "python3"
  },
  "language_info": {
   "codemirror_mode": {
    "name": "ipython",
    "version": 3
   },
   "file_extension": ".py",
   "mimetype": "text/x-python",
   "name": "python",
   "nbconvert_exporter": "python",
   "pygments_lexer": "ipython3",
   "version": "3.11.6"
  }
 },
 "nbformat": 4,
 "nbformat_minor": 2
}
