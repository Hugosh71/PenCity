{
 "cells": [
  {
   "cell_type": "markdown",
   "metadata": {},
   "source": [
    "# Jupyter de test à supprimer avant le rendu"
   ]
  },
  {
   "cell_type": "code",
   "execution_count": 2,
   "metadata": {},
   "outputs": [
    {
     "name": "stderr",
     "output_type": "stream",
     "text": [
      "C:\\Users\\lorel\\AppData\\Local\\Packages\\PythonSoftwareFoundation.Python.3.11_qbz5n2kfra8p0\\LocalCache\\local-packages\\Python311\\site-packages\\tqdm\\auto.py:21: TqdmWarning: IProgress not found. Please update jupyter and ipywidgets. See https://ipywidgets.readthedocs.io/en/stable/user_install.html\n",
      "  from .autonotebook import tqdm as notebook_tqdm\n"
     ]
    }
   ],
   "source": [
    "import random\n",
    "from PIL import Image\n",
    "from tqdm import tqdm\n",
    "from datasets import load_from_disk\n",
    "import os\n",
    "import json\n",
    "from build_dataset import DATASET_PATH"
   ]
  },
  {
   "cell_type": "code",
   "execution_count": 3,
   "metadata": {},
   "outputs": [],
   "source": [
    "base_width, base_height = 416, 416\n",
    "dataset = load_from_disk(DATASET_PATH)\n",
    "all_images = dataset['train']"
   ]
  },
  {
   "cell_type": "code",
   "execution_count": 4,
   "metadata": {},
   "outputs": [],
   "source": [
    "image_groups = [all_images[i:i+random.randint(4, 9)] for i in range(0, len(all_images), random.randint(4, 9))]"
   ]
  },
  {
   "cell_type": "code",
   "execution_count": 5,
   "metadata": {},
   "outputs": [
    {
     "name": "stdout",
     "output_type": "stream",
     "text": [
      "(28, 28)\n"
     ]
    }
   ],
   "source": [
    "print(image_groups[0][\"image\"][0].size)"
   ]
  },
  {
   "cell_type": "code",
   "execution_count": 6,
   "metadata": {},
   "outputs": [],
   "source": [
    "import cv2\n",
    "import numpy as np"
   ]
  },
  {
   "cell_type": "code",
   "execution_count": 17,
   "metadata": {},
   "outputs": [],
   "source": [
    "from dataset_to_images import create_white_image\n",
    "base_img = create_white_image(base_width, base_height)\n",
    "\n",
    "base_w, base_h = base_img.size"
   ]
  },
  {
   "cell_type": "code",
   "execution_count": 18,
   "metadata": {},
   "outputs": [
    {
     "name": "stderr",
     "output_type": "stream",
     "text": [
      "  0%|          | 0/325044 [00:03<?, ?it/s]\n"
     ]
    }
   ],
   "source": [
    "image_size = 82\n",
    "\n",
    "for index, image_group in enumerate(tqdm(image_groups)):\n",
    "    placed_boxes = []\n",
    "    image_data = image_group[\"image\"]\n",
    "    image_label = image_group[\"label\"]\n",
    "    \n",
    "    #list of data and label as tuple\n",
    "    image_data_list = list(zip(image_data, image_label))\n",
    "\n",
    "    for img_data, img_label in image_data_list:\n",
    "\n",
    "        img_np = np.array(img_data)\n",
    "        resized_img_np = cv2.resize(img_np, (image_size, image_size), interpolation=cv2.INTER_CUBIC)\n",
    "        inverted_img_np = 255 - resized_img_np\n",
    "        img = Image.fromarray(inverted_img_np)\n",
    "        \n",
    "        x = random.randint(0, base_w - image_size)\n",
    "        y = random.randint(0, base_h - image_size)\n",
    "        new_box = [x, y, x + image_size, y + image_size]\n",
    "\n",
    "\n",
    "        base_img.paste(img, (x, y))\n",
    "        placed_boxes.append(new_box)\n",
    "\n",
    "        x_center, y_center = (x + image_size / 2) / base_w, (y + image_size / 2) / base_h\n",
    "        norm_width, norm_height = image_size / base_w, image_size / base_h\n",
    "    \n",
    "    base_img.show()\n",
    "\n",
    "    break"
   ]
  },
  {
   "cell_type": "code",
   "execution_count": null,
   "metadata": {},
   "outputs": [],
   "source": []
  }
 ],
 "metadata": {
  "kernelspec": {
   "display_name": "Python 3",
   "language": "python",
   "name": "python3"
  },
  "language_info": {
   "codemirror_mode": {
    "name": "ipython",
    "version": 3
   },
   "file_extension": ".py",
   "mimetype": "text/x-python",
   "name": "python",
   "nbconvert_exporter": "python",
   "pygments_lexer": "ipython3",
   "version": "3.11.6"
  }
 },
 "nbformat": 4,
 "nbformat_minor": 2
}
